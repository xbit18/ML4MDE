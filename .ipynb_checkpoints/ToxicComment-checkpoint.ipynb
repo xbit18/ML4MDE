{
 "cells": [
  {
   "cell_type": "code",
   "execution_count": 2,
   "id": "0f3d1eb2",
   "metadata": {
    "colab": {
     "base_uri": "https://localhost:8080/"
    },
    "id": "0f3d1eb2",
    "outputId": "32ee7d2a-25dc-47d9-8798-3743d93558d5"
   },
   "outputs": [
    {
     "data": {
      "text/plain": [
       "True"
      ]
     },
     "execution_count": 2,
     "metadata": {},
     "output_type": "execute_result"
    }
   ],
   "source": [
    "import re\n",
    "import pandas as pd\n",
    "import numpy as np\n",
    "import tensorflow as tf\n",
    "from tensorflow.keras.layers import TextVectorization\n",
    "from tensorflow.keras.models import Sequential\n",
    "from tensorflow.keras.layers import Embedding, Bidirectional, LSTM, Dense\n",
    "from sklearn.model_selection import train_test_split\n",
    "from sklearn.metrics import precision_score, recall_score, f1_score, hamming_loss, accuracy_score, confusion_matrix\n",
    "from os.path import join\n",
    "import nltk\n",
    "import matplotlib.pyplot as plt\n",
    "from sklearn.model_selection import KFold\n",
    "import seaborn as sns\n",
    "from collections import Counter\n",
    "from tensorflow.keras.metrics import Precision, Recall, CategoricalAccuracy\n",
    "from IPython.display import clear_output\n",
    "import pickle\n",
    "import platform\n",
    "\n",
    "nltk.download(\"stopwords\", quiet=True)"
   ]
  },
  {
   "cell_type": "code",
   "execution_count": 34,
   "id": "73d229b2",
   "metadata": {
    "colab": {
     "base_uri": "https://localhost:8080/"
    },
    "id": "73d229b2",
    "outputId": "24d87d92-0138-451f-c482-f99d11792147"
   },
   "outputs": [
    {
     "name": "stdout",
     "output_type": "stream",
     "text": [
      "Drive already mounted at /content/drive/; to attempt to forcibly remount, call drive.mount(\"/content/drive/\", force_remount=True).\n"
     ]
    }
   ],
   "source": [
    "if platform.system() == \"Windows\":\n",
    "    file = \"dataset.csv\"\n",
    "else:\n",
    "    from google.colab import drive\n",
    "    drive.mount(\"/content/drive/\", force_remount=False)\n",
    "    DATA_PATH = \"/content/drive/My Drive/Colab Notebooks/ML4MDE_Project/\"\n",
    "    file = join(DATA_PATH, \"dataset.csv\")\n",
    "\n",
    "\n",
    "df = pd.read_csv(file, header=0)"
   ]
  },
  {
   "cell_type": "markdown",
   "id": "e14b233b",
   "metadata": {
    "id": "e14b233b"
   },
   "source": [
    "<hr />\n",
    "<h2>Data Preprocessing</h2>"
   ]
  },
  {
   "cell_type": "code",
   "execution_count": 35,
   "id": "359245fb",
   "metadata": {
    "id": "359245fb"
   },
   "outputs": [],
   "source": [
    "contraction_mapping = {\n",
    "    \"ain't\": \"is not\",\n",
    "    \"aren't\": \"are not\",\n",
    "    \"can't\": \"cannot\",\n",
    "    \"'cause\": \"because\",\n",
    "    \"could've\": \"could have\",\n",
    "    \"couldn't\": \"could not\",\n",
    "    \"didn't\": \"did not\",\n",
    "    \"doesn't\": \"does not\",\n",
    "    \"don't\": \"do not\",\n",
    "    \"hadn't\": \"had not\",\n",
    "    \"hasn't\": \"has not\",\n",
    "    \"haven't\": \"have not\",\n",
    "    \"he'd\": \"he would\",\n",
    "    \"he'll\": \"he will\",\n",
    "    \"he's\": \"he is\",\n",
    "    \"how'd\": \"how did\",\n",
    "    \"how'd'y\": \"how do you\",\n",
    "    \"how'll\": \"how will\",\n",
    "    \"how's\": \"how is\",\n",
    "    \"I'd\": \"I would\",\n",
    "    \"I'd've\": \"I would have\",\n",
    "    \"I'll\": \"I will\",\n",
    "    \"I'll've\": \"I will have\",\n",
    "    \"I'm\": \"I am\",\n",
    "    \"I've\": \"I have\",\n",
    "    \"i'd\": \"i would\",\n",
    "    \"i'd've\": \"i would have\",\n",
    "    \"i'll\": \"i will\",\n",
    "    \"i'll've\": \"i will have\",\n",
    "    \"i'm\": \"i am\",\n",
    "    \"i've\": \"i have\",\n",
    "    \"isn't\": \"is not\",\n",
    "    \"it'd\": \"it would\",\n",
    "    \"it'd've\": \"it would have\",\n",
    "    \"it'll\": \"it will\",\n",
    "    \"it'll've\": \"it will have\",\n",
    "    \"it's\": \"it is\",\n",
    "    \"let's\": \"let us\",\n",
    "    \"ma'am\": \"madam\",\n",
    "    \"mayn't\": \"may not\",\n",
    "    \"might've\": \"might have\",\n",
    "    \"mightn't\": \"might not\",\n",
    "    \"mightn't've\": \"might not have\",\n",
    "    \"must've\": \"must have\",\n",
    "    \"mustn't\": \"must not\",\n",
    "    \"mustn't've\": \"must not have\",\n",
    "    \"needn't\": \"need not\",\n",
    "    \"needn't've\": \"need not have\",\n",
    "    \"o'clock\": \"of the clock\",\n",
    "    \"oughtn't\": \"ought not\",\n",
    "    \"oughtn't've\": \"ought not have\",\n",
    "    \"shan't\": \"shall not\",\n",
    "    \"sha'n't\": \"shall not\",\n",
    "    \"shan't've\": \"shall not have\",\n",
    "    \"she'd\": \"she would\",\n",
    "    \"she'd've\": \"she would have\",\n",
    "    \"she'll\": \"she will\",\n",
    "    \"she'll've\": \"she will have\",\n",
    "    \"she's\": \"she is\",\n",
    "    \"should've\": \"should have\",\n",
    "    \"shouldn't\": \"should not\",\n",
    "    \"shouldn't've\": \"should not have\",\n",
    "    \"so've\": \"so have\",\n",
    "    \"so's\": \"so as\",\n",
    "    \"this's\": \"this is\",\n",
    "    \"that'd\": \"that would\",\n",
    "    \"that'd've\": \"that would have\",\n",
    "    \"that's\": \"that is\",\n",
    "    \"there'd\": \"there would\",\n",
    "    \"there'd've\": \"there would have\",\n",
    "    \"there's\": \"there is\",\n",
    "    \"here's\": \"here is\",\n",
    "    \"they'd\": \"they would\",\n",
    "    \"they'd've\": \"they would have\",\n",
    "    \"they'll\": \"they will\",\n",
    "    \"they'll've\": \"they will have\",\n",
    "    \"they're\": \"they are\",\n",
    "    \"they've\": \"they have\",\n",
    "    \"to've\": \"to have\",\n",
    "    \"wasn't\": \"was not\",\n",
    "    \"we'd\": \"we would\",\n",
    "    \"we'd've\": \"we would have\",\n",
    "    \"we'll\": \"we will\",\n",
    "    \"we'll've\": \"we will have\",\n",
    "    \"we're\": \"we are\",\n",
    "    \"we've\": \"we have\",\n",
    "    \"weren't\": \"were not\",\n",
    "    \"what'll\": \"what will\",\n",
    "    \"what'll've\": \"what will have\",\n",
    "    \"what're\": \"what are\",\n",
    "    \"what's\": \"what is\",\n",
    "    \"what've\": \"what have\",\n",
    "    \"when's\": \"when is\",\n",
    "    \"when've\": \"when have\",\n",
    "    \"where'd\": \"where did\",\n",
    "    \"where's\": \"where is\",\n",
    "    \"where've\": \"where have\",\n",
    "    \"who'll\": \"who will\",\n",
    "    \"who'll've\": \"who will have\",\n",
    "    \"who's\": \"who is\",\n",
    "    \"who've\": \"who have\",\n",
    "    \"why's\": \"why is\",\n",
    "    \"why've\": \"why have\",\n",
    "    \"will've\": \"will have\",\n",
    "    \"won't\": \"will not\",\n",
    "    \"won't've\": \"will not have\",\n",
    "    \"would've\": \"would have\",\n",
    "    \"wouldn't\": \"would not\",\n",
    "    \"wouldn't've\": \"would not have\",\n",
    "    \"y'all\": \"you all\",\n",
    "    \"y'all'd\": \"you all would\",\n",
    "    \"y'all'd've\": \"you all would have\",\n",
    "    \"y'all're\": \"you all are\",\n",
    "    \"y'all've\": \"you all have\",\n",
    "    \"you'd\": \"you would\",\n",
    "    \"you'd've\": \"you would have\",\n",
    "    \"you'll\": \"you will\",\n",
    "    \"you'll've\": \"you will have\",\n",
    "    \"you're\": \"you are\",\n",
    "    \"you've\": \"you have\"\n",
    "}\n",
    "\n",
    "stop_words = set(nltk.corpus.stopwords.words('english'))\n",
    "\n",
    "def clean_text(text: str):\n",
    "    to_clean = text.lower()\n",
    "    to_clean = to_clean.replace('\"', '')\n",
    "    to_clean = ' '.join([contraction_mapping[t] if t in contraction_mapping else t for t in to_clean.split(\" \")])\n",
    "    to_clean = re.sub(\"[^a-zA-Z]\", \" \", to_clean)\n",
    "    words = [word for word in to_clean.split() if word not in stop_words and len(word) > 1]\n",
    "    return \" \".join(words).strip()"
   ]
  },
  {
   "cell_type": "code",
   "execution_count": 36,
   "id": "e3c5e167",
   "metadata": {
    "id": "e3c5e167"
   },
   "outputs": [],
   "source": [
    "df[\"comment_text\"] = df[\"comment_text\"].apply(clean_text)\n",
    "X = df[\"comment_text\"].values\n",
    "y = df[df.columns[2:]].values"
   ]
  },
  {
   "cell_type": "code",
   "execution_count": 37,
   "id": "WrmR0HteGHy1",
   "metadata": {
    "colab": {
     "base_uri": "https://localhost:8080/",
     "height": 790
    },
    "id": "WrmR0HteGHy1",
    "outputId": "e547bbc4-c7d7-48a8-c93d-7c788af816e2"
   },
   "outputs": [
    {
     "name": "stderr",
     "output_type": "stream",
     "text": [
      "<ipython-input-37-52bcbb327fdf>:7: FutureWarning: \n",
      "\n",
      "Passing `palette` without assigning `hue` is deprecated and will be removed in v0.14.0. Assign the `y` variable to `hue` and set `legend=False` for the same effect.\n",
      "\n",
      "  ax = sns.barplot(x=counts.values, y=counts.index, palette='viridis')\n"
     ]
    },
    {
     "data": {
      "image/png": "[encoded data removed]",
      "text/plain": [
       "<Figure size 1000x600 with 1 Axes>"
      ]
     },
     "metadata": {},
     "output_type": "display_data"
    },
    {
     "name": "stdout",
     "output_type": "stream",
     "text": [
      "The exact values for each class are:\n"
     ]
    },
    {
     "data": {
      "text/plain": [
       "threat             478\n",
       "identity_hate     1405\n",
       "severe_toxic      1595\n",
       "insult            7877\n",
       "obscene           8449\n",
       "toxic            15294\n",
       "dtype: int64"
      ]
     },
     "execution_count": 37,
     "metadata": {},
     "output_type": "execute_result"
    }
   ],
   "source": [
    "# Count the occurencies of each labels.\n",
    "labels = df.columns.tolist()[2:]\n",
    "counts = df[labels].sum().sort_values()\n",
    "\n",
    "# Creating an horizontal bar graph.\n",
    "plt.figure(figsize=(10, 6))\n",
    "ax = sns.barplot(x=counts.values, y=counts.index, palette='viridis')\n",
    "\n",
    "# Adding labels and title to the graph.\n",
    "plt.xlabel('Number of occurrences')\n",
    "plt.ylabel('Labels')\n",
    "plt.title('Distribution of Label Occurrences')\n",
    "\n",
    "# Show graph\n",
    "plt.show()\n",
    "print(f\"The exact values for each class are:\")\n",
    "df[labels].sum().sort_values()"
   ]
  },
  {
   "cell_type": "code",
   "execution_count": 38,
   "id": "hPKLsphw4I3E",
   "metadata": {
    "colab": {
     "base_uri": "https://localhost:8080/",
     "height": 718
    },
    "id": "hPKLsphw4I3E",
    "outputId": "c5c940c8-80f8-4c91-d186-75e0277b47bd"
   },
   "outputs": [
    {
     "data": {
      "image/png": "[encoded data removed]",
      "text/plain": [
       "<Figure size 1600x800 with 1 Axes>"
      ]
     },
     "metadata": {},
     "output_type": "display_data"
    }
   ],
   "source": [
    "words = [word for comment in X for word in comment.split()]\n",
    "word_counts = Counter(words)\n",
    "N = 10000 # Number of words to plot.\n",
    "interval = 500\n",
    "top_words = word_counts.most_common(N)\n",
    "words, frequencies = zip(*top_words)\n",
    "plt.figure(figsize=(16, 8))\n",
    "sns.barplot(x=range(len(words)), y=frequencies)\n",
    "plt.title(f\"Words Frequency\")\n",
    "plt.xlabel(\"Word\")\n",
    "plt.ylabel(\"Frequency\")\n",
    "x_labels = [f\"{i * interval}\" for i in range(N // interval)] # Build x-axis labels.\n",
    "plt.xticks(range(0, N, interval), x_labels) # Set x-axis labels.\n",
    "plt.ylim(0, 5000)  # Set y-axis limits.\n",
    "plt.yticks(range(0, 5000 + 1, interval))\n",
    "plt.axhline(y=250, color=\"black\", linestyle='--', linewidth=2) # Horizontal line.\n",
    "plt.show()"
   ]
  },
  {
   "cell_type": "code",
   "execution_count": 39,
   "id": "H9VNtpC_0qRl",
   "metadata": {
    "colab": {
     "base_uri": "https://localhost:8080/",
     "height": 487
    },
    "id": "H9VNtpC_0qRl",
    "outputId": "3b8a3531-ed94-4e5a-cf89-f3e33df76fd0"
   },
   "outputs": [
    {
     "data": {
      "image/png": "[encoded data removed]",
      "text/plain": [
       "<Figure size 1500x500 with 1 Axes>"
      ]
     },
     "metadata": {},
     "output_type": "display_data"
    }
   ],
   "source": [
    "sentence_lengths = [len(comment.split()) for comment in X]\n",
    "plt.figure(figsize=(15, 5))\n",
    "plt.hist(sentence_lengths, bins=50, edgecolor=\"black\")\n",
    "plt.title(\"Comment Length Distribution\")\n",
    "plt.xlabel(\"Comment Length\")\n",
    "plt.ylabel(\"Frequency\")\n",
    "plt.xticks(range(0, 1200 + 1, 50)) # Set x-axis labels.\n",
    "plt.show()"
   ]
  },
  {
   "cell_type": "code",
   "execution_count": 40,
   "id": "fc8a3ed1",
   "metadata": {
    "id": "fc8a3ed1"
   },
   "outputs": [],
   "source": [
    "# Text Vectorization\n",
    "MAX_FEATURES = 3000\n",
    "MAX_SEQUENCE = 100\n",
    "vectorizer = TextVectorization(max_tokens=MAX_FEATURES, output_sequence_length=MAX_SEQUENCE, output_mode='int')\n",
    "vectorizer.adapt(X)\n",
    "\n",
    "pickle.dump({'config': vectorizer.get_config(),\n",
    "             'weights': vectorizer.get_weights()}\n",
    "            , open(\"tv_layer.pkl\", \"wb\"))\n",
    "\n",
    "X = np.array(vectorizer(X))\n",
    "X_train, X_test, y_train, y_test = train_test_split(X, y, test_size=0.2, random_state=10)"
   ]
  },
  {
   "cell_type": "code",
   "execution_count": 25,
   "id": "SCmKx74iFB9G",
   "metadata": {
    "id": "SCmKx74iFB9G"
   },
   "outputs": [],
   "source": [
    "# Build the Neural Network.\n",
    "NUM_EPOCHS = 5\n",
    "BATCH_SIZE = 32\n",
    "\n",
    "model = Sequential()\n",
    "\n",
    "model.add(Embedding(MAX_FEATURES + 1, 32))\n",
    "\n",
    "model.add(Bidirectional(LSTM(32, activation=\"tanh\")))\n",
    "\n",
    "model.add(Dense(64, activation=\"relu\"))\n",
    "model.add(Dense(64, activation=\"relu\"))\n",
    "\n",
    "model.add(Dense(6, activation=\"sigmoid\"))\n",
    "\n",
    "model.compile(loss=\"BinaryCrossentropy\", metrics=[\"accuracy\"], optimizer=\"Adam\")"
   ]
  },
  {
   "cell_type": "code",
   "execution_count": 26,
   "id": "geeBcvSe_4g1",
   "metadata": {
    "colab": {
     "base_uri": "https://localhost:8080/"
    },
    "id": "geeBcvSe_4g1",
    "outputId": "5be6ebb2-aa62-4d6b-f623-7aa617d5c8bb"
   },
   "outputs": [
    {
     "name": "stdout",
     "output_type": "stream",
     "text": [
      "K Cross Fold Validation START\n",
      "Fold 1\n",
      "Epoch 1/5\n",
      "3591/3591 [==============================] - 104s 27ms/step - loss: 0.0751 - accuracy: 0.9776 - val_loss: 0.0559 - val_accuracy: 0.9935\n",
      "Epoch 2/5\n",
      "3591/3591 [==============================] - 46s 13ms/step - loss: 0.0560 - accuracy: 0.9905 - val_loss: 0.0546 - val_accuracy: 0.9935\n",
      "Epoch 3/5\n",
      "3591/3591 [==============================] - 46s 13ms/step - loss: 0.0525 - accuracy: 0.9909 - val_loss: 0.0544 - val_accuracy: 0.9935\n",
      "Epoch 4/5\n",
      "3591/3591 [==============================] - 46s 13ms/step - loss: 0.0495 - accuracy: 0.9905 - val_loss: 0.0536 - val_accuracy: 0.9933\n",
      "Epoch 5/5\n",
      "3591/3591 [==============================] - 45s 12ms/step - loss: 0.0467 - accuracy: 0.9936 - val_loss: 0.0550 - val_accuracy: 0.9932\n",
      "399/399 [==============================] - 2s 5ms/step - loss: 0.0550 - accuracy: 0.9932\n",
      "Fold 1 => Loss: 0.06 and Accuracy: 99.32%\n",
      "Fold 2\n",
      "Epoch 1/5\n",
      "3591/3591 [==============================] - 45s 13ms/step - loss: 0.0457 - accuracy: 0.9876 - val_loss: 0.0474 - val_accuracy: 0.9952\n",
      "Epoch 2/5\n",
      "3591/3591 [==============================] - 45s 12ms/step - loss: 0.0429 - accuracy: 0.9929 - val_loss: 0.0480 - val_accuracy: 0.9952\n",
      "Epoch 3/5\n",
      "3591/3591 [==============================] - 44s 12ms/step - loss: 0.0405 - accuracy: 0.9919 - val_loss: 0.0502 - val_accuracy: 0.9939\n",
      "Epoch 4/5\n",
      "3591/3591 [==============================] - 44s 12ms/step - loss: 0.0380 - accuracy: 0.9880 - val_loss: 0.0544 - val_accuracy: 0.9939\n",
      "Epoch 5/5\n",
      "3591/3591 [==============================] - 46s 13ms/step - loss: 0.0357 - accuracy: 0.9886 - val_loss: 0.0548 - val_accuracy: 0.9878\n",
      "399/399 [==============================] - 2s 5ms/step - loss: 0.0548 - accuracy: 0.9878\n",
      "Fold 2 => Loss: 0.05 and Accuracy: 98.78%\n",
      "Fold 3\n",
      "Epoch 1/5\n",
      "3591/3591 [==============================] - 44s 12ms/step - loss: 0.0364 - accuracy: 0.9850 - val_loss: 0.0352 - val_accuracy: 0.9928\n",
      "Epoch 2/5\n",
      "3591/3591 [==============================] - 45s 12ms/step - loss: 0.0336 - accuracy: 0.9895 - val_loss: 0.0387 - val_accuracy: 0.9910\n",
      "Epoch 3/5\n",
      "3591/3591 [==============================] - 43s 12ms/step - loss: 0.0314 - accuracy: 0.9890 - val_loss: 0.0421 - val_accuracy: 0.9766\n",
      "Epoch 4/5\n",
      "3591/3591 [==============================] - 44s 12ms/step - loss: 0.0295 - accuracy: 0.9841 - val_loss: 0.0465 - val_accuracy: 0.9897\n",
      "Epoch 5/5\n",
      "3591/3591 [==============================] - 48s 13ms/step - loss: 0.0275 - accuracy: 0.9726 - val_loss: 0.0511 - val_accuracy: 0.9845\n",
      "399/399 [==============================] - 3s 7ms/step - loss: 0.0511 - accuracy: 0.9845\n",
      "Fold 3 => Loss: 0.05 and Accuracy: 98.45%\n",
      "Fold 4\n",
      "Epoch 1/5\n",
      "3591/3591 [==============================] - 47s 13ms/step - loss: 0.0291 - accuracy: 0.9633 - val_loss: 0.0275 - val_accuracy: 0.8868\n",
      "Epoch 2/5\n",
      "3591/3591 [==============================] - 46s 13ms/step - loss: 0.0264 - accuracy: 0.9287 - val_loss: 0.0306 - val_accuracy: 0.9562\n",
      "Epoch 3/5\n",
      "3591/3591 [==============================] - 46s 13ms/step - loss: 0.0244 - accuracy: 0.9432 - val_loss: 0.0322 - val_accuracy: 0.9727\n",
      "Epoch 4/5\n",
      "3591/3591 [==============================] - 46s 13ms/step - loss: 0.0230 - accuracy: 0.8967 - val_loss: 0.0363 - val_accuracy: 0.9477\n",
      "Epoch 5/5\n",
      "3591/3591 [==============================] - 48s 13ms/step - loss: 0.0214 - accuracy: 0.9012 - val_loss: 0.0394 - val_accuracy: 0.9644\n",
      "399/399 [==============================] - 3s 6ms/step - loss: 0.0394 - accuracy: 0.9644\n",
      "Fold 4 => Loss: 0.04 and Accuracy: 96.44%\n",
      "Fold 5\n",
      "Epoch 1/5\n",
      "3591/3591 [==============================] - 45s 13ms/step - loss: 0.0232 - accuracy: 0.9447 - val_loss: 0.0215 - val_accuracy: 0.9741\n",
      "Epoch 2/5\n",
      "3591/3591 [==============================] - 47s 13ms/step - loss: 0.0206 - accuracy: 0.9582 - val_loss: 0.0242 - val_accuracy: 0.9726\n",
      "Epoch 3/5\n",
      "3591/3591 [==============================] - 48s 13ms/step - loss: 0.0193 - accuracy: 0.9227 - val_loss: 0.0271 - val_accuracy: 0.9702\n",
      "Epoch 4/5\n",
      "3591/3591 [==============================] - 47s 13ms/step - loss: 0.0183 - accuracy: 0.8603 - val_loss: 0.0299 - val_accuracy: 0.9411\n",
      "Epoch 5/5\n",
      "3591/3591 [==============================] - 50s 14ms/step - loss: 0.0172 - accuracy: 0.8506 - val_loss: 0.0329 - val_accuracy: 0.8528\n",
      "399/399 [==============================] - 2s 6ms/step - loss: 0.0329 - accuracy: 0.8528\n",
      "Fold 5 => Loss: 0.03 and Accuracy: 85.28%\n",
      "Fold 6\n",
      "Epoch 1/5\n",
      "3591/3591 [==============================] - 47s 13ms/step - loss: 0.0184 - accuracy: 0.8198 - val_loss: 0.0185 - val_accuracy: 0.9697\n",
      "Epoch 2/5\n",
      "3591/3591 [==============================] - 44s 12ms/step - loss: 0.0166 - accuracy: 0.8764 - val_loss: 0.0214 - val_accuracy: 0.9278\n",
      "Epoch 3/5\n",
      "3591/3591 [==============================] - 45s 13ms/step - loss: 0.0157 - accuracy: 0.8140 - val_loss: 0.0260 - val_accuracy: 0.8796\n",
      "Epoch 4/5\n",
      "3591/3591 [==============================] - 45s 12ms/step - loss: 0.0147 - accuracy: 0.7768 - val_loss: 0.0269 - val_accuracy: 0.7798\n",
      "Epoch 5/5\n",
      "3591/3591 [==============================] - 45s 12ms/step - loss: 0.0140 - accuracy: 0.8636 - val_loss: 0.0300 - val_accuracy: 0.9089\n",
      "399/399 [==============================] - 2s 5ms/step - loss: 0.0300 - accuracy: 0.9089\n",
      "Fold 6 => Loss: 0.03 and Accuracy: 90.89%\n",
      "Fold 7\n",
      "Epoch 1/5\n",
      "3591/3591 [==============================] - 45s 13ms/step - loss: 0.0155 - accuracy: 0.8989 - val_loss: 0.0148 - val_accuracy: 0.9264\n",
      "Epoch 2/5\n",
      "3591/3591 [==============================] - 45s 13ms/step - loss: 0.0137 - accuracy: 0.9038 - val_loss: 0.0168 - val_accuracy: 0.9123\n",
      "Epoch 3/5\n",
      "3591/3591 [==============================] - 45s 12ms/step - loss: 0.0132 - accuracy: 0.8832 - val_loss: 0.0186 - val_accuracy: 0.9307\n",
      "Epoch 4/5\n",
      "3591/3591 [==============================] - 45s 12ms/step - loss: 0.0126 - accuracy: 0.8816 - val_loss: 0.0205 - val_accuracy: 0.9270\n",
      "Epoch 5/5\n",
      "3591/3591 [==============================] - 48s 13ms/step - loss: 0.0119 - accuracy: 0.8814 - val_loss: 0.0234 - val_accuracy: 0.9452\n",
      "399/399 [==============================] - 2s 5ms/step - loss: 0.0234 - accuracy: 0.9452\n",
      "Fold 7 => Loss: 0.02 and Accuracy: 94.52%\n",
      "Fold 8\n",
      "Epoch 1/5\n",
      "3591/3591 [==============================] - 47s 13ms/step - loss: 0.0132 - accuracy: 0.9066 - val_loss: 0.0115 - val_accuracy: 0.9398\n",
      "Epoch 2/5\n",
      "3591/3591 [==============================] - 44s 12ms/step - loss: 0.0118 - accuracy: 0.9000 - val_loss: 0.0130 - val_accuracy: 0.9113\n",
      "Epoch 3/5\n",
      "3591/3591 [==============================] - 45s 12ms/step - loss: 0.0111 - accuracy: 0.8962 - val_loss: 0.0152 - val_accuracy: 0.9587\n",
      "Epoch 4/5\n",
      "3591/3591 [==============================] - 47s 13ms/step - loss: 0.0110 - accuracy: 0.9164 - val_loss: 0.0178 - val_accuracy: 0.8931\n",
      "Epoch 5/5\n",
      "3591/3591 [==============================] - 46s 13ms/step - loss: 0.0107 - accuracy: 0.8920 - val_loss: 0.0189 - val_accuracy: 0.9130\n",
      "399/399 [==============================] - 2s 5ms/step - loss: 0.0189 - accuracy: 0.9130\n",
      "Fold 8 => Loss: 0.02 and Accuracy: 91.30%\n",
      "Fold 9\n",
      "Epoch 1/5\n",
      "3591/3591 [==============================] - 45s 13ms/step - loss: 0.0116 - accuracy: 0.9049 - val_loss: 0.0113 - val_accuracy: 0.9299\n",
      "Epoch 2/5\n",
      "3591/3591 [==============================] - 44s 12ms/step - loss: 0.0104 - accuracy: 0.9341 - val_loss: 0.0129 - val_accuracy: 0.9499\n",
      "Epoch 3/5\n",
      "3591/3591 [==============================] - 47s 13ms/step - loss: 0.0099 - accuracy: 0.9392 - val_loss: 0.0156 - val_accuracy: 0.9196\n",
      "Epoch 4/5\n",
      "3591/3591 [==============================] - 48s 13ms/step - loss: 0.0096 - accuracy: 0.9120 - val_loss: 0.0171 - val_accuracy: 0.9507\n",
      "Epoch 5/5\n",
      "3591/3591 [==============================] - 48s 13ms/step - loss: 0.0091 - accuracy: 0.9441 - val_loss: 0.0206 - val_accuracy: 0.9297\n",
      "399/399 [==============================] - 2s 6ms/step - loss: 0.0206 - accuracy: 0.9297\n",
      "Fold 9 => Loss: 0.02 and Accuracy: 92.97%\n",
      "Fold 10\n",
      "Epoch 1/5\n",
      "3591/3591 [==============================] - 47s 13ms/step - loss: 0.0110 - accuracy: 0.9484 - val_loss: 0.0088 - val_accuracy: 0.9552\n",
      "Epoch 2/5\n",
      "3591/3591 [==============================] - 46s 13ms/step - loss: 0.0094 - accuracy: 0.9538 - val_loss: 0.0099 - val_accuracy: 0.9557\n",
      "Epoch 3/5\n",
      "3591/3591 [==============================] - 49s 14ms/step - loss: 0.0092 - accuracy: 0.9457 - val_loss: 0.0122 - val_accuracy: 0.9434\n",
      "Epoch 4/5\n",
      "3591/3591 [==============================] - 44s 12ms/step - loss: 0.0088 - accuracy: 0.9326 - val_loss: 0.0155 - val_accuracy: 0.9569\n",
      "Epoch 5/5\n",
      "3591/3591 [==============================] - 45s 13ms/step - loss: 0.0087 - accuracy: 0.9380 - val_loss: 0.0156 - val_accuracy: 0.8922\n",
      "399/399 [==============================] - 3s 7ms/step - loss: 0.0156 - accuracy: 0.8922\n",
      "Fold 10 => Loss: 0.02 and Accuracy: 89.22%\n",
      "K Cross Fold Validation END\n"
     ]
    }
   ],
   "source": [
    "# K-FOLD CROSS VALIDATION\n",
    "NUM_FOLDS = 10\n",
    "KF = KFold(n_splits=NUM_FOLDS, shuffle=True, random_state=10)\n",
    "\n",
    "print(\"K Cross Fold Validation START\")\n",
    "index = 1\n",
    "for train_index, val_index in KF.split(X_train):\n",
    "  print(f\"Fold {index}\")\n",
    "  X_fold_train, X_fold_val = X_train[train_index], X_train[val_index]\n",
    "  y_fold_train, y_fold_val = y_train[train_index], y_train[val_index]\n",
    "\n",
    "  model.fit(X_fold_train, y_fold_train, epochs=NUM_EPOCHS, batch_size=BATCH_SIZE, validation_data=(X_fold_val, y_fold_val))\n",
    "\n",
    "  scores = model.evaluate(X_fold_val, y_fold_val)\n",
    "  print(f\"Fold {index} => Loss: {scores[0]:.2f} and Accuracy: {scores[1]*100:.2f}%\")\n",
    "  index += 1\n",
    "print(\"K Cross Fold Validation END\")"
   ]
  },
  {
   "cell_type": "code",
   "execution_count": 27,
   "id": "ROv1pMbFMUDc",
   "metadata": {
    "colab": {
     "base_uri": "https://localhost:8080/"
    },
    "id": "ROv1pMbFMUDc",
    "outputId": "738b1edf-2763-4ae7-9009-77c4c1298239"
   },
   "outputs": [
    {
     "name": "stdout",
     "output_type": "stream",
     "text": [
      "Epoch 1/5\n",
      "3990/3990 [==============================] - 48s 12ms/step - loss: 0.0095 - accuracy: 0.9286\n",
      "Epoch 2/5\n",
      "3990/3990 [==============================] - 47s 12ms/step - loss: 0.0089 - accuracy: 0.9198\n",
      "Epoch 3/5\n",
      "3990/3990 [==============================] - 47s 12ms/step - loss: 0.0085 - accuracy: 0.9255\n",
      "Epoch 4/5\n",
      "3990/3990 [==============================] - 48s 12ms/step - loss: 0.0082 - accuracy: 0.9116\n",
      "Epoch 5/5\n",
      "3990/3990 [==============================] - 47s 12ms/step - loss: 0.0084 - accuracy: 0.9184\n",
      "Model: \"sequential\"\n",
      "_________________________________________________________________\n",
      " Layer (type)                Output Shape              Param #   \n",
      "=================================================================\n",
      " embedding (Embedding)       (None, None, 32)          96032     \n",
      "                                                                 \n",
      " bidirectional (Bidirection  (None, 64)                16640     \n",
      " al)                                                             \n",
      "                                                                 \n",
      " dense (Dense)               (None, 64)                4160      \n",
      "                                                                 \n",
      " dense_1 (Dense)             (None, 64)                4160      \n",
      "                                                                 \n",
      " dense_2 (Dense)             (None, 6)                 390       \n",
      "                                                                 \n",
      "=================================================================\n",
      "Total params: 121382 (474.15 KB)\n",
      "Trainable params: 121382 (474.15 KB)\n",
      "Non-trainable params: 0 (0.00 Byte)\n",
      "_________________________________________________________________\n"
     ]
    }
   ],
   "source": [
    "# Train the model with the entire dataset.\n",
    "model.fit(X_train, y_train, epochs=NUM_EPOCHS, batch_size=BATCH_SIZE)\n",
    "model.summary()"
   ]
  },
  {
   "cell_type": "code",
   "execution_count": 28,
   "id": "e8-jL7E1MpG_",
   "metadata": {
    "colab": {
     "base_uri": "https://localhost:8080/"
    },
    "id": "e8-jL7E1MpG_",
    "outputId": "1cac2c9e-31bf-47f6-d6b0-272d96fa28ae"
   },
   "outputs": [
    {
     "name": "stdout",
     "output_type": "stream",
     "text": [
      "998/998 [==============================] - 5s 5ms/step\n",
      "Precision: 0.64\n",
      "Recall:0.62\n",
      "Accuracy:0.99\n",
      "Hamming Loss: 0.03\n",
      "F-1 Score: 0.63\n"
     ]
    }
   ],
   "source": [
    "# Calculate metrics (Precision, Recall, Accuracy)\n",
    "precision = Precision()\n",
    "recall = Recall()\n",
    "accuracy = CategoricalAccuracy()\n",
    "\n",
    "y_predicted = model.predict(X_test)\n",
    "y_predicted = (y_predicted > 0.5).astype(int)\n",
    "\n",
    "# Calculate metrics.\n",
    "precision.update_state(y_test, y_predicted)\n",
    "precision_value = precision.result().numpy()\n",
    "recall.update_state(y_test, y_predicted)\n",
    "recall_value = recall.result().numpy()\n",
    "accuracy.update_state(y_test, y_predicted)\n",
    "accuracy_value = accuracy.result().numpy()\n",
    "hamming_loss_value = hamming_loss(y_test, y_predicted)\n",
    "f1_value = (2 * precision_value * recall_value) / (precision_value + recall_value)\n",
    "\n",
    "print(f\"Precision: {precision_value:.2f}\")\n",
    "print(f\"Recall:{recall_value:.2f}\")\n",
    "print(f\"Accuracy:{accuracy_value:.2f}\")\n",
    "print(f\"Hamming Loss: {hamming_loss_value:.2f}\")\n",
    "print(f\"F-1 Score: {f1_value:.2f}\")"
   ]
  },
  {
   "cell_type": "code",
   "execution_count": null,
   "id": "WgZSEGgSVjgR",
   "metadata": {
    "id": "WgZSEGgSVjgR"
   },
   "outputs": [],
   "source": [
    "labels = [\"toxic\", \"sever toxic\", \"obscene\", \"threat\", \"insult\", \"identity hate\"]\n",
    "for label in range(6):\n",
    "  y_test_i = [row[label] for row in y_test]\n",
    "  y_predicted_i = [row[label] for row in y_predicted]\n",
    "  # Creating confusion matrix.\n",
    "  CM = confusion_matrix(y_test_i, y_predicted_i)\n",
    "  # Showing confusion matrix as a heatmap.\n",
    "  sns.heatmap(CM, annot=True, fmt=\"d\", cmap=\"Blues\")\n",
    "  plt.xlabel(\"Predicted Value\")\n",
    "  plt.ylabel(\"True Value\")\n",
    "  plt.title(f\"Confusion Matrix ({labels[label]})\")\n",
    "  plt.show()"
   ]
  },
  {
   "cell_type": "code",
   "execution_count": 30,
   "id": "TwL-iQxCTobn",
   "metadata": {
    "colab": {
     "base_uri": "https://localhost:8080/"
    },
    "id": "TwL-iQxCTobn",
    "outputId": "7f027018-0e45-4ce4-edaf-5f6ea53d4333"
   },
   "outputs": [
    {
     "name": "stderr",
     "output_type": "stream",
     "text": [
      "/usr/local/lib/python3.10/dist-packages/keras/src/engine/training.py:3103: UserWarning: You are saving your model as an HDF5 file via `model.save()`. This file format is considered legacy. We recommend using instead the native Keras format, e.g. `model.save('my_model.keras')`.\n",
      "  saving_api.save_model(\n",
      "/usr/local/lib/python3.10/dist-packages/keras/src/engine/training.py:3103: UserWarning: You are saving your model as an HDF5 file via `model.save()`. This file format is considered legacy. We recommend using instead the native Keras format, e.g. `model.save('my_model.keras')`.\n",
      "  saving_api.save_model(\n"
     ]
    }
   ],
   "source": [
    "# Save the models.\n",
    "model.save('toxicity.h5')\n",
    "model.save('toxicity.keras')"
   ]
  },
  {
   "cell_type": "code",
   "execution_count": 45,
   "id": "CwKX6ChTE4Gk",
   "metadata": {
    "id": "CwKX6ChTE4Gk"
   },
   "outputs": [],
   "source": [
    "# Load model\n",
    "model = tf.keras.models.load_model(\"toxicity.h5\")\n",
    "\n",
    "from_disk = pickle.load(open(\"tv_layer.pkl\", \"rb\"))\n",
    "new_v = TextVectorization.from_config(from_disk['config'])\n",
    "# You have to call `adapt` with some dummy data (BUG in Keras)\n",
    "new_v.adapt(tf.data.Dataset.from_tensor_slices([\"xyz\"]))\n",
    "new_v.set_weights(from_disk['weights'])\n",
    "\n",
    "\n",
    "def pretty_prediction(comment):\n",
    "  vectorized = new_v([comment])\n",
    "  predicted = model.predict(vectorized)\n",
    "  result = \"Comment has been classified as: \"\n",
    "  labels_strings = []\n",
    "  for index, label in enumerate(labels):\n",
    "    if predicted[0][index] > 0.5:\n",
    "      labels_strings.append(label)\n",
    "      #result += f\"{label}: {predicted[0][index] > 0.5} \\n\"\n",
    "\n",
    "  if len(labels_strings) == 0: labels_strings.append(\"good\")\n",
    "\n",
    "  return result + \", \".join(labels_strings)"
   ]
  },
  {
   "cell_type": "code",
   "execution_count": 47,
   "id": "Z_xicyAbE6lk",
   "metadata": {
    "colab": {
     "base_uri": "https://localhost:8080/"
    },
    "id": "Z_xicyAbE6lk",
    "outputId": "0efbd172-6a65-49e1-cd5b-556c84d6ea98"
   },
   "outputs": [
    {
     "name": "stdout",
     "output_type": "stream",
     "text": [
      "Insert Comment: stop\n"
     ]
    }
   ],
   "source": [
    "# Play with the model.\n",
    "stop = False\n",
    "print(\"Write \\\"stop\\\" if you want to quit.\")\n",
    "while not stop:\n",
    "  clear_output(wait=True)\n",
    "  comment = input(\"Insert Comment: \")\n",
    "  if comment == 'stop': stop = True\n",
    "  else: print(pretty_prediction(comment))"
   ]
  },
  {
   "cell_type": "code",
   "execution_count": null,
   "id": "GiW9icSWBbD6",
   "metadata": {
    "id": "GiW9icSWBbD6"
   },
   "outputs": [],
   "source": []
  }
 ],
 "metadata": {
  "accelerator": "GPU",
  "colab": {
   "gpuType": "T4",
   "provenance": []
  },
  "kernelspec": {
   "display_name": "Python 3 (ipykernel)",
   "language": "python",
   "name": "python3"
  },
  "language_info": {
   "codemirror_mode": {
    "name": "ipython",
    "version": 3
   },
   "file_extension": ".py",
   "mimetype": "text/x-python",
   "name": "python",
   "nbconvert_exporter": "python",
   "pygments_lexer": "ipython3",
   "version": "3.11.5"
  }
 },
 "nbformat": 4,
 "nbformat_minor": 5
}
